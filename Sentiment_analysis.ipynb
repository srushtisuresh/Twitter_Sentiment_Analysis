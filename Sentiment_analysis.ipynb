{
 "cells": [
  {
   "cell_type": "markdown",
   "metadata": {},
   "source": [
    "# Sentiment Analysis using Twitter data - \n",
    "Pandemic had augmented angst among Indian SubContinent about the chinese products. The tweets were raging in on the platform and coming to a conclusion with different opinions was only becoming difficult. During this time, \"make in india\" movement was super popular as well. Thus, I wanted to analyze the sentiments of the people related to boycotting chinese market products and research on how it effected the Indian Market in return.\n",
    "\n",
    "The idea behind the project was not only to develop a model to analyze the twitter sentiments but also to learn to implement different ML Algorithms and differentiate between their performance metrices."
   ]
  },
  {
   "cell_type": "code",
   "execution_count": 1,
   "metadata": {},
   "outputs": [],
   "source": [
    "import warnings \n",
    "warnings.filterwarnings(\"ignore\", category=DeprecationWarning)\n",
    "\n",
    "import pandas as pd"
   ]
  },
  {
   "cell_type": "raw",
   "metadata": {},
   "source": [
    "# Get the authentication data\n",
    "log = pd.read_csv('auth.csv')\n",
    "# Twitter API credentials\n",
    "consumerKey = log['key'][0]\n",
    "consumerSecret = log['key'][1]\n",
    "accessToken = log['key'][2]\n",
    "accessTokenSecret = log['key'][3]"
   ]
  },
  {
   "cell_type": "markdown",
   "metadata": {},
   "source": [
    "## Data Extraction\n",
    "\n",
    "#### Connect to Twitter API"
   ]
  },
  {
   "cell_type": "raw",
   "metadata": {},
   "source": [
    "import tweepy\n",
    "\n",
    "# Create the authentication object\n",
    "authenticate = tweepy.OAuthHandler(consumerKey, consumerSecret) \n",
    "    \n",
    "# Set the access token and access token secret\n",
    "authenticate.set_access_token(accessToken, accessTokenSecret) \n",
    "    \n",
    "# Creating the API object while passing in auth information\n",
    "api = tweepy.API(authenticate, wait_on_rate_limit = True)"
   ]
  },
  {
   "cell_type": "raw",
   "metadata": {},
   "source": [
    "# Define the search term and the date_since date as variables\n",
    "search_words = [\"#banchina OR banchina OR ban china -filter:retweets\",\n",
    "                \"#banchineseapps OR banchineseapps OR ban chinese apps -filter:retweets\",\n",
    "                \"#boycottchina OR boycottchina OR boycott china -filter:retweets\", \n",
    "                \"#boycottchineseproducts OR boycottchineseproducts OR boycott chinese products -filter:retweets\",\n",
    "                \"#boycottmadeinchina OR boycottmadeinchina OR boycott made in china -filter:retweets\",\n",
    "                \"#chineseapps OR chineseapps OR chinese apps -filter:retweets\",\n",
    "                \"#saynotochina OR saynotochina OR say no to china -filter:retweets\",\n",
    "                \"#tiktokban OR tiktokban OR tiktok ban -filter:retweets\"]\n",
    "date_since = \"2015-01-01\"\n",
    "\n",
    "data = pd.DataFrame(columns=['Tweets'])\n",
    "\n",
    "# Extract tweets using related hashtags\n",
    "for search_word in search_words:\n",
    "    tweets = tweepy.Cursor(api.search,\n",
    "              q=search_word,\n",
    "              lang=\"en\",\n",
    "              since=date_since).items(10000)\n",
    "    \n",
    "    # Create a dataframe with a column called Tweets\n",
    "    df = pd.DataFrame([tweet.text for tweet in tweets], columns=['Tweets'])\n",
    "    data = data.append(df, ignore_index=True)\n",
    "    print(df)\n",
    "\n",
    "# Export tweets to csv file\n",
    "data.to_csv('newtweets.csv', index=False)"
   ]
  },
  {
   "cell_type": "markdown",
   "metadata": {},
   "source": [
    "#### Load and show data"
   ]
  },
  {
   "cell_type": "code",
   "execution_count": 2,
   "metadata": {},
   "outputs": [
    {
     "data": {
      "text/html": [
       "<div>\n",
       "<style scoped>\n",
       "    .dataframe tbody tr th:only-of-type {\n",
       "        vertical-align: middle;\n",
       "    }\n",
       "\n",
       "    .dataframe tbody tr th {\n",
       "        vertical-align: top;\n",
       "    }\n",
       "\n",
       "    .dataframe thead th {\n",
       "        text-align: right;\n",
       "    }\n",
       "</style>\n",
       "<table border=\"1\" class=\"dataframe\">\n",
       "  <thead>\n",
       "    <tr style=\"text-align: right;\">\n",
       "      <th></th>\n",
       "      <th>Tweets</th>\n",
       "    </tr>\n",
       "  </thead>\n",
       "  <tbody>\n",
       "    <tr>\n",
       "      <th>0</th>\n",
       "      <td>We have 35% of total production for exports  h...</td>\n",
       "    </tr>\n",
       "    <tr>\n",
       "      <th>1</th>\n",
       "      <td>WuhanVirus\\n\\nChina must pay.\\n\\nBanChina</td>\n",
       "    </tr>\n",
       "    <tr>\n",
       "      <th>2</th>\n",
       "      <td>_pang  he is a fucking joke!\\nHKIndependence f...</td>\n",
       "    </tr>\n",
       "    <tr>\n",
       "      <th>3</th>\n",
       "      <td>BanChina - All the MI phones &amp;amp; One plus ph...</td>\n",
       "    </tr>\n",
       "    <tr>\n",
       "      <th>4</th>\n",
       "      <td>“China is the enemy of privacy. China shows wh...</td>\n",
       "    </tr>\n",
       "    <tr>\n",
       "      <th>...</th>\n",
       "      <td>...</td>\n",
       "    </tr>\n",
       "    <tr>\n",
       "      <th>11727</th>\n",
       "      <td>tiktokban\\nI was literally saying 2mo ago \" ti...</td>\n",
       "    </tr>\n",
       "    <tr>\n",
       "      <th>11728</th>\n",
       "      <td>Trump's desire to eliminate TikTok is not rela...</td>\n",
       "    </tr>\n",
       "    <tr>\n",
       "      <th>11729</th>\n",
       "      <td>So, as per CCPChina, whole world is miscalcula...</td>\n",
       "    </tr>\n",
       "    <tr>\n",
       "      <th>11730</th>\n",
       "      <td>Happy women's month to every woman out there r...</td>\n",
       "    </tr>\n",
       "    <tr>\n",
       "      <th>11731</th>\n",
       "      <td>Good Morning! PresidentSnowflake tiktokban Sat...</td>\n",
       "    </tr>\n",
       "  </tbody>\n",
       "</table>\n",
       "<p>11732 rows × 1 columns</p>\n",
       "</div>"
      ],
      "text/plain": [
       "                                                  Tweets\n",
       "0      We have 35% of total production for exports  h...\n",
       "1              WuhanVirus\\n\\nChina must pay.\\n\\nBanChina\n",
       "2      _pang  he is a fucking joke!\\nHKIndependence f...\n",
       "3      BanChina - All the MI phones &amp; One plus ph...\n",
       "4      “China is the enemy of privacy. China shows wh...\n",
       "...                                                  ...\n",
       "11727  tiktokban\\nI was literally saying 2mo ago \" ti...\n",
       "11728  Trump's desire to eliminate TikTok is not rela...\n",
       "11729  So, as per CCPChina, whole world is miscalcula...\n",
       "11730  Happy women's month to every woman out there r...\n",
       "11731  Good Morning! PresidentSnowflake tiktokban Sat...\n",
       "\n",
       "[11732 rows x 1 columns]"
      ]
     },
     "execution_count": 2,
     "metadata": {},
     "output_type": "execute_result"
    }
   ],
   "source": [
    "#Load tweets from csv file\n",
    "data = pd.read_csv('tweets1.csv')\n",
    "\n",
    "#Show loaded tweets\n",
    "data"
   ]
  },
  {
   "cell_type": "markdown",
   "metadata": {},
   "source": [
    "## Data Pre-processing"
   ]
  },
  {
   "cell_type": "code",
   "execution_count": 3,
   "metadata": {},
   "outputs": [
    {
     "data": {
      "text/html": [
       "<div>\n",
       "<style scoped>\n",
       "    .dataframe tbody tr th:only-of-type {\n",
       "        vertical-align: middle;\n",
       "    }\n",
       "\n",
       "    .dataframe tbody tr th {\n",
       "        vertical-align: top;\n",
       "    }\n",
       "\n",
       "    .dataframe thead th {\n",
       "        text-align: right;\n",
       "    }\n",
       "</style>\n",
       "<table border=\"1\" class=\"dataframe\">\n",
       "  <thead>\n",
       "    <tr style=\"text-align: right;\">\n",
       "      <th></th>\n",
       "      <th>Tweets</th>\n",
       "    </tr>\n",
       "  </thead>\n",
       "  <tbody>\n",
       "    <tr>\n",
       "      <th>0</th>\n",
       "      <td>have total production exports hence scare shor...</td>\n",
       "    </tr>\n",
       "    <tr>\n",
       "      <th>1</th>\n",
       "      <td>WuhanVirus China must BanChina</td>\n",
       "    </tr>\n",
       "    <tr>\n",
       "      <th>2</th>\n",
       "      <td>pang fucking joke HKIndependence freehk banchi...</td>\n",
       "    </tr>\n",
       "    <tr>\n",
       "      <th>3</th>\n",
       "      <td>BanChina phones plus phones sold minutes when ...</td>\n",
       "    </tr>\n",
       "    <tr>\n",
       "      <th>4</th>\n",
       "      <td>China enemy privacy China shows what totalitar...</td>\n",
       "    </tr>\n",
       "    <tr>\n",
       "      <th>...</th>\n",
       "      <td>...</td>\n",
       "    </tr>\n",
       "    <tr>\n",
       "      <th>11727</th>\n",
       "      <td>tiktokban literally saying tiktok good live re...</td>\n",
       "    </tr>\n",
       "    <tr>\n",
       "      <th>11728</th>\n",
       "      <td>Trump desire eliminate TikTok related China Ti...</td>\n",
       "    </tr>\n",
       "    <tr>\n",
       "      <th>11729</th>\n",
       "      <td>CCPChina whole world miscalculating their resp...</td>\n",
       "    </tr>\n",
       "    <tr>\n",
       "      <th>11730</th>\n",
       "      <td>Happy women month every woman there regardless...</td>\n",
       "    </tr>\n",
       "    <tr>\n",
       "      <th>11731</th>\n",
       "      <td>Good Morning PresidentSnowflake tiktokban Satu...</td>\n",
       "    </tr>\n",
       "  </tbody>\n",
       "</table>\n",
       "<p>11732 rows × 1 columns</p>\n",
       "</div>"
      ],
      "text/plain": [
       "                                                  Tweets\n",
       "0      have total production exports hence scare shor...\n",
       "1                         WuhanVirus China must BanChina\n",
       "2      pang fucking joke HKIndependence freehk banchi...\n",
       "3      BanChina phones plus phones sold minutes when ...\n",
       "4      China enemy privacy China shows what totalitar...\n",
       "...                                                  ...\n",
       "11727  tiktokban literally saying tiktok good live re...\n",
       "11728  Trump desire eliminate TikTok related China Ti...\n",
       "11729  CCPChina whole world miscalculating their resp...\n",
       "11730  Happy women month every woman there regardless...\n",
       "11731  Good Morning PresidentSnowflake tiktokban Satu...\n",
       "\n",
       "[11732 rows x 1 columns]"
      ]
     },
     "execution_count": 3,
     "metadata": {},
     "output_type": "execute_result"
    }
   ],
   "source": [
    "import re\n",
    "\n",
    "# Create a function to clean the tweets\n",
    "def cleanTxt(text):\n",
    "     #Removing @mentions\n",
    "    text = re.sub('#', '', text) # Removing '#' hash tag\n",
    "    text = re.sub('https?:\\/\\/\\S+', '', text) # Removing hyperlink\n",
    "    emoji_pattern = re.compile(\"[\"\n",
    "        u\"\\U0001F600-\\U0001F64F\"  # emoticons\n",
    "        u\"\\U0001F300-\\U0001F5FF\"  # symbols & pictographs\n",
    "        u\"\\U0001F680-\\U0001F6FF\"  # transport & map symbols\n",
    "        u\"\\U0001F1E0-\\U0001F1FF\"  # flags (iOS)\n",
    "                           \"]+\", flags=re.UNICODE)\n",
    "    text = emoji_pattern.sub(r'', text) #Removing emojis\n",
    "    text = re.sub('[^a-zA-Z#]', ' ', text) #Removing Punctuation, Numbers, and Special Characters\n",
    "    \n",
    "    return text\n",
    "\n",
    "# Clean the tweets\n",
    "data['Tweets'] = data['Tweets'].apply(cleanTxt)\n",
    "\n",
    "# Remove stop words\n",
    "data['Tweets'] = data['Tweets'].apply(lambda x: ' '.join([w for w in x.split() if len(w)>3]))\n",
    "\n",
    "# Show the cleaned tweets\n",
    "data"
   ]
  },
  {
   "cell_type": "code",
   "execution_count": 4,
   "metadata": {},
   "outputs": [],
   "source": [
    "data.to_csv('data.csv')"
   ]
  },
  {
   "cell_type": "markdown",
   "metadata": {},
   "source": [
    "## Feature Extraction"
   ]
  },
  {
   "cell_type": "code",
   "execution_count": 4,
   "metadata": {},
   "outputs": [
    {
     "data": {
      "text/html": [
       "<div>\n",
       "<style scoped>\n",
       "    .dataframe tbody tr th:only-of-type {\n",
       "        vertical-align: middle;\n",
       "    }\n",
       "\n",
       "    .dataframe tbody tr th {\n",
       "        vertical-align: top;\n",
       "    }\n",
       "\n",
       "    .dataframe thead th {\n",
       "        text-align: right;\n",
       "    }\n",
       "</style>\n",
       "<table border=\"1\" class=\"dataframe\">\n",
       "  <thead>\n",
       "    <tr style=\"text-align: right;\">\n",
       "      <th></th>\n",
       "      <th>Tweets</th>\n",
       "      <th>Subjectivity</th>\n",
       "      <th>Polarity</th>\n",
       "    </tr>\n",
       "  </thead>\n",
       "  <tbody>\n",
       "    <tr>\n",
       "      <th>0</th>\n",
       "      <td>have total production exports hence scare shor...</td>\n",
       "      <td>0.425000</td>\n",
       "      <td>0.000000</td>\n",
       "    </tr>\n",
       "    <tr>\n",
       "      <th>1</th>\n",
       "      <td>WuhanVirus China must BanChina</td>\n",
       "      <td>0.000000</td>\n",
       "      <td>0.000000</td>\n",
       "    </tr>\n",
       "    <tr>\n",
       "      <th>2</th>\n",
       "      <td>pang fucking joke HKIndependence freehk banchi...</td>\n",
       "      <td>0.800000</td>\n",
       "      <td>-0.600000</td>\n",
       "    </tr>\n",
       "    <tr>\n",
       "      <th>3</th>\n",
       "      <td>BanChina phones plus phones sold minutes when ...</td>\n",
       "      <td>0.000000</td>\n",
       "      <td>0.000000</td>\n",
       "    </tr>\n",
       "    <tr>\n",
       "      <th>4</th>\n",
       "      <td>China enemy privacy China shows what totalitar...</td>\n",
       "      <td>0.000000</td>\n",
       "      <td>0.000000</td>\n",
       "    </tr>\n",
       "    <tr>\n",
       "      <th>...</th>\n",
       "      <td>...</td>\n",
       "      <td>...</td>\n",
       "      <td>...</td>\n",
       "    </tr>\n",
       "    <tr>\n",
       "      <th>11727</th>\n",
       "      <td>tiktokban literally saying tiktok good live re...</td>\n",
       "      <td>0.466667</td>\n",
       "      <td>0.345455</td>\n",
       "    </tr>\n",
       "    <tr>\n",
       "      <th>11728</th>\n",
       "      <td>Trump desire eliminate TikTok related China Ti...</td>\n",
       "      <td>0.700000</td>\n",
       "      <td>0.150000</td>\n",
       "    </tr>\n",
       "    <tr>\n",
       "      <th>11729</th>\n",
       "      <td>CCPChina whole world miscalculating their resp...</td>\n",
       "      <td>0.613333</td>\n",
       "      <td>-0.093333</td>\n",
       "    </tr>\n",
       "    <tr>\n",
       "      <th>11730</th>\n",
       "      <td>Happy women month every woman there regardless...</td>\n",
       "      <td>0.800000</td>\n",
       "      <td>0.650000</td>\n",
       "    </tr>\n",
       "    <tr>\n",
       "      <th>11731</th>\n",
       "      <td>Good Morning PresidentSnowflake tiktokban Satu...</td>\n",
       "      <td>0.600000</td>\n",
       "      <td>0.700000</td>\n",
       "    </tr>\n",
       "  </tbody>\n",
       "</table>\n",
       "<p>11732 rows × 3 columns</p>\n",
       "</div>"
      ],
      "text/plain": [
       "                                                  Tweets  Subjectivity  \\\n",
       "0      have total production exports hence scare shor...      0.425000   \n",
       "1                         WuhanVirus China must BanChina      0.000000   \n",
       "2      pang fucking joke HKIndependence freehk banchi...      0.800000   \n",
       "3      BanChina phones plus phones sold minutes when ...      0.000000   \n",
       "4      China enemy privacy China shows what totalitar...      0.000000   \n",
       "...                                                  ...           ...   \n",
       "11727  tiktokban literally saying tiktok good live re...      0.466667   \n",
       "11728  Trump desire eliminate TikTok related China Ti...      0.700000   \n",
       "11729  CCPChina whole world miscalculating their resp...      0.613333   \n",
       "11730  Happy women month every woman there regardless...      0.800000   \n",
       "11731  Good Morning PresidentSnowflake tiktokban Satu...      0.600000   \n",
       "\n",
       "       Polarity  \n",
       "0      0.000000  \n",
       "1      0.000000  \n",
       "2     -0.600000  \n",
       "3      0.000000  \n",
       "4      0.000000  \n",
       "...         ...  \n",
       "11727  0.345455  \n",
       "11728  0.150000  \n",
       "11729 -0.093333  \n",
       "11730  0.650000  \n",
       "11731  0.700000  \n",
       "\n",
       "[11732 rows x 3 columns]"
      ]
     },
     "execution_count": 4,
     "metadata": {},
     "output_type": "execute_result"
    }
   ],
   "source": [
    "from textblob import TextBlob\n",
    "\n",
    "# Create a function to get the subjectivity\n",
    "def getSubjectivity(text):\n",
    "    return TextBlob(text).sentiment.subjectivity\n",
    "\n",
    "# Create a function to get the polarity\n",
    "def getPolarity(text):\n",
    "    return  TextBlob(text).sentiment.polarity\n",
    "\n",
    "\n",
    "# Create two new columns 'Subjectivity' & 'Polarity'\n",
    "data['Subjectivity'] = data['Tweets'].apply(getSubjectivity)\n",
    "data['Polarity'] = data['Tweets'].apply(getPolarity)\n",
    "\n",
    "# Show the new dataframe with columns 'Subjectivity' & 'Polarity'\n",
    "data"
   ]
  },
  {
   "cell_type": "markdown",
   "metadata": {},
   "source": [
    "## Visualization"
   ]
  },
  {
   "cell_type": "code",
   "execution_count": 5,
   "metadata": {},
   "outputs": [],
   "source": [
    "import matplotlib.pyplot as plt\n",
    "plt.style.use('fivethirtyeight')\n",
    "%matplotlib inline"
   ]
  },
  {
   "cell_type": "code",
   "execution_count": 6,
   "metadata": {},
   "outputs": [
    {
     "data": {
      "image/png": "[encoded data removed]",
      "text/plain": [
       "<Figure size 432x288 with 1 Axes>"
      ]
     },
     "metadata": {
      "needs_background": "light"
     },
     "output_type": "display_data"
    }
   ],
   "source": [
    "from wordcloud import WordCloud\n",
    "\n",
    "# word cloud visualization\n",
    "allWords = ' '.join([twts for twts in data['Tweets']])\n",
    "wordCloud = WordCloud(width=500, height=300, random_state=21, max_font_size=110).generate(allWords)\n",
    "\n",
    "\n",
    "plt.imshow(wordCloud, interpolation=\"bilinear\")\n",
    "plt.axis('off')\n",
    "plt.show()"
   ]
  },
  {
   "cell_type": "markdown",
   "metadata": {},
   "source": [
    "#### Scatter Plot Polarity vs Subjectivity"
   ]
  },
  {
   "cell_type": "code",
   "execution_count": 7,
   "metadata": {},
   "outputs": [
    {
     "data": {
      "image/png": "[encoded data removed]",
      "text/plain": [
       "<Figure size 576x432 with 1 Axes>"
      ]
     },
     "metadata": {
      "needs_background": "light"
     },
     "output_type": "display_data"
    }
   ],
   "source": [
    "# Plotting \n",
    "plt.figure(figsize=(8,6)) \n",
    "for i in range(0, data.shape[0]):\n",
    "    plt.scatter(data[\"Polarity\"][i], data[\"Subjectivity\"][i], color='Blue') \n",
    "\n",
    "# plt.scatter(x,y,color)   \n",
    "plt.title('Sentiment Analysis') \n",
    "plt.xlabel('Polarity') \n",
    "plt.ylabel('Subjectivity') \n",
    "plt.show()"
   ]
  },
  {
   "cell_type": "code",
   "execution_count": 6,
   "metadata": {},
   "outputs": [
    {
     "data": {
      "text/html": [
       "<div>\n",
       "<style scoped>\n",
       "    .dataframe tbody tr th:only-of-type {\n",
       "        vertical-align: middle;\n",
       "    }\n",
       "\n",
       "    .dataframe tbody tr th {\n",
       "        vertical-align: top;\n",
       "    }\n",
       "\n",
       "    .dataframe thead th {\n",
       "        text-align: right;\n",
       "    }\n",
       "</style>\n",
       "<table border=\"1\" class=\"dataframe\">\n",
       "  <thead>\n",
       "    <tr style=\"text-align: right;\">\n",
       "      <th></th>\n",
       "      <th>Tweets</th>\n",
       "      <th>Subjectivity</th>\n",
       "      <th>Polarity</th>\n",
       "      <th>Analysis</th>\n",
       "    </tr>\n",
       "  </thead>\n",
       "  <tbody>\n",
       "    <tr>\n",
       "      <th>0</th>\n",
       "      <td>have total production exports hence scare shor...</td>\n",
       "      <td>0.425000</td>\n",
       "      <td>0.000000</td>\n",
       "      <td>0</td>\n",
       "    </tr>\n",
       "    <tr>\n",
       "      <th>1</th>\n",
       "      <td>WuhanVirus China must BanChina</td>\n",
       "      <td>0.000000</td>\n",
       "      <td>0.000000</td>\n",
       "      <td>0</td>\n",
       "    </tr>\n",
       "    <tr>\n",
       "      <th>2</th>\n",
       "      <td>pang fucking joke HKIndependence freehk banchi...</td>\n",
       "      <td>0.800000</td>\n",
       "      <td>-0.600000</td>\n",
       "      <td>-1</td>\n",
       "    </tr>\n",
       "    <tr>\n",
       "      <th>3</th>\n",
       "      <td>BanChina phones plus phones sold minutes when ...</td>\n",
       "      <td>0.000000</td>\n",
       "      <td>0.000000</td>\n",
       "      <td>0</td>\n",
       "    </tr>\n",
       "    <tr>\n",
       "      <th>4</th>\n",
       "      <td>China enemy privacy China shows what totalitar...</td>\n",
       "      <td>0.000000</td>\n",
       "      <td>0.000000</td>\n",
       "      <td>0</td>\n",
       "    </tr>\n",
       "    <tr>\n",
       "      <th>...</th>\n",
       "      <td>...</td>\n",
       "      <td>...</td>\n",
       "      <td>...</td>\n",
       "      <td>...</td>\n",
       "    </tr>\n",
       "    <tr>\n",
       "      <th>11727</th>\n",
       "      <td>tiktokban literally saying tiktok good live re...</td>\n",
       "      <td>0.466667</td>\n",
       "      <td>0.345455</td>\n",
       "      <td>1</td>\n",
       "    </tr>\n",
       "    <tr>\n",
       "      <th>11728</th>\n",
       "      <td>Trump desire eliminate TikTok related China Ti...</td>\n",
       "      <td>0.700000</td>\n",
       "      <td>0.150000</td>\n",
       "      <td>1</td>\n",
       "    </tr>\n",
       "    <tr>\n",
       "      <th>11729</th>\n",
       "      <td>CCPChina whole world miscalculating their resp...</td>\n",
       "      <td>0.613333</td>\n",
       "      <td>-0.093333</td>\n",
       "      <td>-1</td>\n",
       "    </tr>\n",
       "    <tr>\n",
       "      <th>11730</th>\n",
       "      <td>Happy women month every woman there regardless...</td>\n",
       "      <td>0.800000</td>\n",
       "      <td>0.650000</td>\n",
       "      <td>1</td>\n",
       "    </tr>\n",
       "    <tr>\n",
       "      <th>11731</th>\n",
       "      <td>Good Morning PresidentSnowflake tiktokban Satu...</td>\n",
       "      <td>0.600000</td>\n",
       "      <td>0.700000</td>\n",
       "      <td>1</td>\n",
       "    </tr>\n",
       "  </tbody>\n",
       "</table>\n",
       "<p>11732 rows × 4 columns</p>\n",
       "</div>"
      ],
      "text/plain": [
       "                                                  Tweets  Subjectivity  \\\n",
       "0      have total production exports hence scare shor...      0.425000   \n",
       "1                         WuhanVirus China must BanChina      0.000000   \n",
       "2      pang fucking joke HKIndependence freehk banchi...      0.800000   \n",
       "3      BanChina phones plus phones sold minutes when ...      0.000000   \n",
       "4      China enemy privacy China shows what totalitar...      0.000000   \n",
       "...                                                  ...           ...   \n",
       "11727  tiktokban literally saying tiktok good live re...      0.466667   \n",
       "11728  Trump desire eliminate TikTok related China Ti...      0.700000   \n",
       "11729  CCPChina whole world miscalculating their resp...      0.613333   \n",
       "11730  Happy women month every woman there regardless...      0.800000   \n",
       "11731  Good Morning PresidentSnowflake tiktokban Satu...      0.600000   \n",
       "\n",
       "       Polarity  Analysis  \n",
       "0      0.000000         0  \n",
       "1      0.000000         0  \n",
       "2     -0.600000        -1  \n",
       "3      0.000000         0  \n",
       "4      0.000000         0  \n",
       "...         ...       ...  \n",
       "11727  0.345455         1  \n",
       "11728  0.150000         1  \n",
       "11729 -0.093333        -1  \n",
       "11730  0.650000         1  \n",
       "11731  0.700000         1  \n",
       "\n",
       "[11732 rows x 4 columns]"
      ]
     },
     "execution_count": 6,
     "metadata": {},
     "output_type": "execute_result"
    }
   ],
   "source": [
    "# Create a function to compute negative (-1), neutral (0) and positive (+1) analysis\n",
    "def getAnalysis(score):\n",
    "    if score < 0:\n",
    "        return -1\n",
    "    elif score == 0:\n",
    "        return 0\n",
    "    else:\n",
    "        return 1\n",
    "\n",
    "data['Analysis'] = data['Polarity'].apply(getAnalysis)\n",
    "\n",
    "# Show the dataframe\n",
    "data"
   ]
  },
  {
   "cell_type": "markdown",
   "metadata": {},
   "source": [
    "#### Feature Value Count"
   ]
  },
  {
   "cell_type": "code",
   "execution_count": 7,
   "metadata": {},
   "outputs": [
    {
     "data": {
      "text/plain": [
       " 0    5938\n",
       " 1    4018\n",
       "-1    1776\n",
       "Name: Analysis, dtype: int64"
      ]
     },
     "execution_count": 7,
     "metadata": {},
     "output_type": "execute_result"
    }
   ],
   "source": [
    "# Show the value counts\n",
    "data['Analysis'].value_counts()"
   ]
  },
  {
   "cell_type": "markdown",
   "metadata": {},
   "source": [
    "#### Bar Plot Sentiments vs Value Count"
   ]
  },
  {
   "cell_type": "code",
   "execution_count": 8,
   "metadata": {},
   "outputs": [
    {
     "data": {
      "image/png": "[encoded data removed]",
      "text/plain": [
       "<Figure size 432x288 with 1 Axes>"
      ]
     },
     "metadata": {
      "needs_background": "light"
     },
     "output_type": "display_data"
    }
   ],
   "source": [
    "# Plotting and visualizing the counts\n",
    "plt.title('Sentiment Analysis')\n",
    "plt.xlabel('Sentiment')\n",
    "plt.ylabel('Counts')\n",
    "data['Analysis'].value_counts().plot(kind = 'bar')\n",
    "plt.show()"
   ]
  },
  {
   "cell_type": "markdown",
   "metadata": {},
   "source": [
    "## Data Modelling"
   ]
  },
  {
   "cell_type": "code",
   "execution_count": 9,
   "metadata": {},
   "outputs": [],
   "source": [
    "from sklearn.model_selection import train_test_split\n",
    "from sklearn.feature_extraction.text import CountVectorizer\n",
    "\n",
    "#splitting test and train dataset\n",
    "x_train,x_test,y_train,y_test = train_test_split(data['Tweets'],data['Analysis'],test_size=0.2)\n",
    "vector = CountVectorizer()\n",
    "counts = vector.fit_transform(x_train)"
   ]
  },
  {
   "cell_type": "code",
   "execution_count": 10,
   "metadata": {},
   "outputs": [],
   "source": [
    "from sklearn.metrics import accuracy_score,precision_score,recall_score,f1_score\n",
    "\n",
    "score = pd.DataFrame(columns = ['Model', 'Accuracy', 'Precision', 'Recall', 'F1'])\n",
    "\n",
    "def evaluateModel(modelClassifier, modelName):\n",
    "    #evaluating the model\n",
    "    counts_test=vector.transform(x_test)\n",
    "    prediction=modelClassifier.predict(counts_test)\n",
    "    a = accuracy_score(y_test,prediction)\n",
    "    p = precision_score(y_test,prediction, average='micro')\n",
    "    r = recall_score(y_test,prediction, average='micro')\n",
    "    f = f1_score(y_test,prediction, average='weighted')\n",
    "    df = pd.DataFrame([[modelName, a, p, r, f]], columns = ['Model', 'Accuracy', 'Precision', 'Recall', 'F1'])\n",
    "    global score\n",
    "    score = score.append(df, ignore_index=True)\n",
    "    print(pd.crosstab(y_test, prediction))"
   ]
  },
  {
   "cell_type": "markdown",
   "metadata": {},
   "source": [
    "### Naive Bayes Classification\n",
    "#### before balancing"
   ]
  },
  {
   "cell_type": "code",
   "execution_count": 11,
   "metadata": {},
   "outputs": [
    {
     "name": "stdout",
     "output_type": "stream",
     "text": [
      "col_0      -1     0    1\n",
      "Analysis                \n",
      "-1        125    94  137\n",
      " 0         10  1060  109\n",
      " 1         13    81  718\n"
     ]
    },
    {
     "data": {
      "text/html": [
       "<div>\n",
       "<style scoped>\n",
       "    .dataframe tbody tr th:only-of-type {\n",
       "        vertical-align: middle;\n",
       "    }\n",
       "\n",
       "    .dataframe tbody tr th {\n",
       "        vertical-align: top;\n",
       "    }\n",
       "\n",
       "    .dataframe thead th {\n",
       "        text-align: right;\n",
       "    }\n",
       "</style>\n",
       "<table border=\"1\" class=\"dataframe\">\n",
       "  <thead>\n",
       "    <tr style=\"text-align: right;\">\n",
       "      <th></th>\n",
       "      <th>Model</th>\n",
       "      <th>Accuracy</th>\n",
       "      <th>Precision</th>\n",
       "      <th>Recall</th>\n",
       "      <th>F1</th>\n",
       "    </tr>\n",
       "  </thead>\n",
       "  <tbody>\n",
       "    <tr>\n",
       "      <th>0</th>\n",
       "      <td>Naive Bayes Classification - before balancing</td>\n",
       "      <td>0.810822</td>\n",
       "      <td>0.810822</td>\n",
       "      <td>0.810822</td>\n",
       "      <td>0.796143</td>\n",
       "    </tr>\n",
       "  </tbody>\n",
       "</table>\n",
       "</div>"
      ],
      "text/plain": [
       "                                           Model  Accuracy  Precision  \\\n",
       "0  Naive Bayes Classification - before balancing  0.810822   0.810822   \n",
       "\n",
       "     Recall        F1  \n",
       "0  0.810822  0.796143  "
      ]
     },
     "execution_count": 11,
     "metadata": {},
     "output_type": "execute_result"
    }
   ],
   "source": [
    "from sklearn.naive_bayes import MultinomialNB\n",
    "\n",
    "NBClassifier=MultinomialNB()\n",
    "NBClassifier.fit(counts,y_train)\n",
    "evaluateModel(NBClassifier, 'Naive Bayes Classification - before balancing')\n",
    "score"
   ]
  },
  {
   "cell_type": "markdown",
   "metadata": {},
   "source": [
    "#### after balancing"
   ]
  },
  {
   "cell_type": "code",
   "execution_count": 12,
   "metadata": {
    "scrolled": true
   },
   "outputs": [
    {
     "data": {
      "text/plain": [
       "-1    5938\n",
       " 1    5938\n",
       " 0    5938\n",
       "Name: Analysis, dtype: int64"
      ]
     },
     "execution_count": 12,
     "metadata": {},
     "output_type": "execute_result"
    }
   ],
   "source": [
    "from sklearn.utils import resample\n",
    "\n",
    "# Separate majority and minority classes\n",
    "df_majority = data[data.Analysis==0]\n",
    "df_minority_negative = data[data.Analysis==-1]\n",
    "df_minority_positive = data[data.Analysis==1]\n",
    " \n",
    "# Upsample minority class\n",
    "df_minority_upsampled_negative = resample(df_minority_negative, \n",
    "                                 replace=True,     # sample with replacement\n",
    "                                 n_samples=5938) \n",
    "\n",
    "df_minority_upsampled_positive = resample(df_minority_positive, \n",
    "                                 replace=True,     # sample with replacement\n",
    "                                 n_samples=5938)\n",
    "# Combine majority class with upsampled minority class\n",
    "new_data=pd.concat([df_majority,df_minority_upsampled_negative,df_minority_upsampled_positive])\n",
    "# Show the value counts\n",
    "new_data['Analysis'].value_counts()"
   ]
  },
  {
   "cell_type": "code",
   "execution_count": 13,
   "metadata": {},
   "outputs": [
    {
     "name": "stdout",
     "output_type": "stream",
     "text": [
      "col_0       -1    0     1\n",
      "Analysis                 \n",
      "-1        1087   27    50\n",
      " 0         150  839   167\n",
      " 1          71   30  1142\n"
     ]
    },
    {
     "data": {
      "text/html": [
       "<div>\n",
       "<style scoped>\n",
       "    .dataframe tbody tr th:only-of-type {\n",
       "        vertical-align: middle;\n",
       "    }\n",
       "\n",
       "    .dataframe tbody tr th {\n",
       "        vertical-align: top;\n",
       "    }\n",
       "\n",
       "    .dataframe thead th {\n",
       "        text-align: right;\n",
       "    }\n",
       "</style>\n",
       "<table border=\"1\" class=\"dataframe\">\n",
       "  <thead>\n",
       "    <tr style=\"text-align: right;\">\n",
       "      <th></th>\n",
       "      <th>Model</th>\n",
       "      <th>Accuracy</th>\n",
       "      <th>Precision</th>\n",
       "      <th>Recall</th>\n",
       "      <th>F1</th>\n",
       "    </tr>\n",
       "  </thead>\n",
       "  <tbody>\n",
       "    <tr>\n",
       "      <th>0</th>\n",
       "      <td>Naive Bayes Classification - before balancing</td>\n",
       "      <td>0.810822</td>\n",
       "      <td>0.810822</td>\n",
       "      <td>0.810822</td>\n",
       "      <td>0.796143</td>\n",
       "    </tr>\n",
       "    <tr>\n",
       "      <th>1</th>\n",
       "      <td>Naive Bayes Classification - after balancing</td>\n",
       "      <td>0.861072</td>\n",
       "      <td>0.861072</td>\n",
       "      <td>0.861072</td>\n",
       "      <td>0.858848</td>\n",
       "    </tr>\n",
       "  </tbody>\n",
       "</table>\n",
       "</div>"
      ],
      "text/plain": [
       "                                           Model  Accuracy  Precision  \\\n",
       "0  Naive Bayes Classification - before balancing  0.810822   0.810822   \n",
       "1   Naive Bayes Classification - after balancing  0.861072   0.861072   \n",
       "\n",
       "     Recall        F1  \n",
       "0  0.810822  0.796143  \n",
       "1  0.861072  0.858848  "
      ]
     },
     "execution_count": 13,
     "metadata": {},
     "output_type": "execute_result"
    }
   ],
   "source": [
    "x_train,x_test,y_train,y_test=train_test_split(new_data['Tweets'],new_data['Analysis'],test_size=0.2)\n",
    "vector=CountVectorizer()\n",
    "counts=vector.fit_transform(x_train)\n",
    "NBClassifier=MultinomialNB()\n",
    "NBClassifier.fit(counts,y_train)\n",
    "evaluateModel(NBClassifier, 'Naive Bayes Classification - after balancing')\n",
    "score"
   ]
  },
  {
   "cell_type": "markdown",
   "metadata": {},
   "source": [
    "#### removing neutral class"
   ]
  },
  {
   "cell_type": "code",
   "execution_count": 14,
   "metadata": {},
   "outputs": [
    {
     "data": {
      "text/html": [
       "<div>\n",
       "<style scoped>\n",
       "    .dataframe tbody tr th:only-of-type {\n",
       "        vertical-align: middle;\n",
       "    }\n",
       "\n",
       "    .dataframe tbody tr th {\n",
       "        vertical-align: top;\n",
       "    }\n",
       "\n",
       "    .dataframe thead th {\n",
       "        text-align: right;\n",
       "    }\n",
       "</style>\n",
       "<table border=\"1\" class=\"dataframe\">\n",
       "  <thead>\n",
       "    <tr style=\"text-align: right;\">\n",
       "      <th></th>\n",
       "      <th>Tweets</th>\n",
       "      <th>Subjectivity</th>\n",
       "      <th>Polarity</th>\n",
       "      <th>Analysis</th>\n",
       "    </tr>\n",
       "  </thead>\n",
       "  <tbody>\n",
       "    <tr>\n",
       "      <th>2</th>\n",
       "      <td>pang fucking joke HKIndependence freehk banchi...</td>\n",
       "      <td>0.800000</td>\n",
       "      <td>-0.600000</td>\n",
       "      <td>-1</td>\n",
       "    </tr>\n",
       "    <tr>\n",
       "      <th>5</th>\n",
       "      <td>Xitler wants this video banned BanChina</td>\n",
       "      <td>0.100000</td>\n",
       "      <td>0.200000</td>\n",
       "      <td>1</td>\n",
       "    </tr>\n",
       "    <tr>\n",
       "      <th>6</th>\n",
       "      <td>national security clearly shown kills freedom ...</td>\n",
       "      <td>0.383333</td>\n",
       "      <td>0.100000</td>\n",
       "      <td>1</td>\n",
       "    </tr>\n",
       "    <tr>\n",
       "      <th>9</th>\n",
       "      <td>think missing huge opportunity India banchina ...</td>\n",
       "      <td>0.475000</td>\n",
       "      <td>0.100000</td>\n",
       "      <td>1</td>\n",
       "    </tr>\n",
       "    <tr>\n",
       "      <th>10</th>\n",
       "      <td>That correct first step should identify called...</td>\n",
       "      <td>0.583333</td>\n",
       "      <td>0.291667</td>\n",
       "      <td>1</td>\n",
       "    </tr>\n",
       "    <tr>\n",
       "      <th>...</th>\n",
       "      <td>...</td>\n",
       "      <td>...</td>\n",
       "      <td>...</td>\n",
       "      <td>...</td>\n",
       "    </tr>\n",
       "    <tr>\n",
       "      <th>11727</th>\n",
       "      <td>tiktokban literally saying tiktok good live re...</td>\n",
       "      <td>0.466667</td>\n",
       "      <td>0.345455</td>\n",
       "      <td>1</td>\n",
       "    </tr>\n",
       "    <tr>\n",
       "      <th>11728</th>\n",
       "      <td>Trump desire eliminate TikTok related China Ti...</td>\n",
       "      <td>0.700000</td>\n",
       "      <td>0.150000</td>\n",
       "      <td>1</td>\n",
       "    </tr>\n",
       "    <tr>\n",
       "      <th>11729</th>\n",
       "      <td>CCPChina whole world miscalculating their resp...</td>\n",
       "      <td>0.613333</td>\n",
       "      <td>-0.093333</td>\n",
       "      <td>-1</td>\n",
       "    </tr>\n",
       "    <tr>\n",
       "      <th>11730</th>\n",
       "      <td>Happy women month every woman there regardless...</td>\n",
       "      <td>0.800000</td>\n",
       "      <td>0.650000</td>\n",
       "      <td>1</td>\n",
       "    </tr>\n",
       "    <tr>\n",
       "      <th>11731</th>\n",
       "      <td>Good Morning PresidentSnowflake tiktokban Satu...</td>\n",
       "      <td>0.600000</td>\n",
       "      <td>0.700000</td>\n",
       "      <td>1</td>\n",
       "    </tr>\n",
       "  </tbody>\n",
       "</table>\n",
       "<p>5794 rows × 4 columns</p>\n",
       "</div>"
      ],
      "text/plain": [
       "                                                  Tweets  Subjectivity  \\\n",
       "2      pang fucking joke HKIndependence freehk banchi...      0.800000   \n",
       "5                Xitler wants this video banned BanChina      0.100000   \n",
       "6      national security clearly shown kills freedom ...      0.383333   \n",
       "9      think missing huge opportunity India banchina ...      0.475000   \n",
       "10     That correct first step should identify called...      0.583333   \n",
       "...                                                  ...           ...   \n",
       "11727  tiktokban literally saying tiktok good live re...      0.466667   \n",
       "11728  Trump desire eliminate TikTok related China Ti...      0.700000   \n",
       "11729  CCPChina whole world miscalculating their resp...      0.613333   \n",
       "11730  Happy women month every woman there regardless...      0.800000   \n",
       "11731  Good Morning PresidentSnowflake tiktokban Satu...      0.600000   \n",
       "\n",
       "       Polarity  Analysis  \n",
       "2     -0.600000        -1  \n",
       "5      0.200000         1  \n",
       "6      0.100000         1  \n",
       "9      0.100000         1  \n",
       "10     0.291667         1  \n",
       "...         ...       ...  \n",
       "11727  0.345455         1  \n",
       "11728  0.150000         1  \n",
       "11729 -0.093333        -1  \n",
       "11730  0.650000         1  \n",
       "11731  0.700000         1  \n",
       "\n",
       "[5794 rows x 4 columns]"
      ]
     },
     "execution_count": 14,
     "metadata": {},
     "output_type": "execute_result"
    }
   ],
   "source": [
    "data = data[data.Analysis!=0]\n",
    "data"
   ]
  },
  {
   "cell_type": "code",
   "execution_count": 15,
   "metadata": {},
   "outputs": [
    {
     "data": {
      "text/plain": [
       "-1    4018\n",
       " 1    4018\n",
       "Name: Analysis, dtype: int64"
      ]
     },
     "execution_count": 15,
     "metadata": {},
     "output_type": "execute_result"
    }
   ],
   "source": [
    "# Separate majority and minority classes\n",
    "df_majority = data[data.Analysis==0]\n",
    "df_minority_negative = data[data.Analysis==-1]\n",
    "df_minority_positive = data[data.Analysis==1]\n",
    " \n",
    "# Upsample minority class\n",
    "df_minority_upsampled_negative = resample(df_minority_negative, \n",
    "                                 replace=True,     # sample with replacement\n",
    "                                 n_samples=4018) \n",
    "\n",
    "df_minority_upsampled_positive = resample(df_minority_positive, \n",
    "                                 replace=True,     # sample with replacement\n",
    "                                 n_samples=4018)\n",
    "\n",
    "# Combine majority class with upsampled minority class\n",
    "new_data=pd.concat([df_majority,df_minority_upsampled_negative,df_minority_upsampled_positive])\n",
    "# Display new class counts\n",
    "new_data.Analysis.value_counts()"
   ]
  },
  {
   "cell_type": "code",
   "execution_count": 16,
   "metadata": {},
   "outputs": [
    {
     "name": "stdout",
     "output_type": "stream",
     "text": [
      "col_0      -1    1\n",
      "Analysis          \n",
      "-1        763   47\n",
      " 1         65  733\n"
     ]
    },
    {
     "data": {
      "text/html": [
       "<div>\n",
       "<style scoped>\n",
       "    .dataframe tbody tr th:only-of-type {\n",
       "        vertical-align: middle;\n",
       "    }\n",
       "\n",
       "    .dataframe tbody tr th {\n",
       "        vertical-align: top;\n",
       "    }\n",
       "\n",
       "    .dataframe thead th {\n",
       "        text-align: right;\n",
       "    }\n",
       "</style>\n",
       "<table border=\"1\" class=\"dataframe\">\n",
       "  <thead>\n",
       "    <tr style=\"text-align: right;\">\n",
       "      <th></th>\n",
       "      <th>Model</th>\n",
       "      <th>Accuracy</th>\n",
       "      <th>Precision</th>\n",
       "      <th>Recall</th>\n",
       "      <th>F1</th>\n",
       "    </tr>\n",
       "  </thead>\n",
       "  <tbody>\n",
       "    <tr>\n",
       "      <th>0</th>\n",
       "      <td>Naive Bayes Classification - before balancing</td>\n",
       "      <td>0.810822</td>\n",
       "      <td>0.810822</td>\n",
       "      <td>0.810822</td>\n",
       "      <td>0.796143</td>\n",
       "    </tr>\n",
       "    <tr>\n",
       "      <th>1</th>\n",
       "      <td>Naive Bayes Classification - after balancing</td>\n",
       "      <td>0.861072</td>\n",
       "      <td>0.861072</td>\n",
       "      <td>0.861072</td>\n",
       "      <td>0.858848</td>\n",
       "    </tr>\n",
       "    <tr>\n",
       "      <th>2</th>\n",
       "      <td>Naive Bayes Classification - removed neutral</td>\n",
       "      <td>0.930348</td>\n",
       "      <td>0.930348</td>\n",
       "      <td>0.930348</td>\n",
       "      <td>0.930334</td>\n",
       "    </tr>\n",
       "  </tbody>\n",
       "</table>\n",
       "</div>"
      ],
      "text/plain": [
       "                                           Model  Accuracy  Precision  \\\n",
       "0  Naive Bayes Classification - before balancing  0.810822   0.810822   \n",
       "1   Naive Bayes Classification - after balancing  0.861072   0.861072   \n",
       "2   Naive Bayes Classification - removed neutral  0.930348   0.930348   \n",
       "\n",
       "     Recall        F1  \n",
       "0  0.810822  0.796143  \n",
       "1  0.861072  0.858848  \n",
       "2  0.930348  0.930334  "
      ]
     },
     "execution_count": 16,
     "metadata": {},
     "output_type": "execute_result"
    }
   ],
   "source": [
    "x_train,x_test,y_train,y_test=train_test_split(new_data['Tweets'],new_data['Analysis'],test_size=0.2)\n",
    "vector=CountVectorizer()\n",
    "counts=vector.fit_transform(x_train)\n",
    "NBClassifier=MultinomialNB()\n",
    "NBClassifier.fit(counts,y_train)\n",
    "evaluateModel(NBClassifier, 'Naive Bayes Classification - removed neutral')\n",
    "score"
   ]
  },
  {
   "cell_type": "markdown",
   "metadata": {},
   "source": [
    "### Decision Tree Classifier"
   ]
  },
  {
   "cell_type": "code",
   "execution_count": 17,
   "metadata": {},
   "outputs": [
    {
     "name": "stdout",
     "output_type": "stream",
     "text": [
      "col_0      -1    1\n",
      "Analysis          \n",
      "-1        788   22\n",
      " 1         47  751\n"
     ]
    },
    {
     "data": {
      "text/html": [
       "<div>\n",
       "<style scoped>\n",
       "    .dataframe tbody tr th:only-of-type {\n",
       "        vertical-align: middle;\n",
       "    }\n",
       "\n",
       "    .dataframe tbody tr th {\n",
       "        vertical-align: top;\n",
       "    }\n",
       "\n",
       "    .dataframe thead th {\n",
       "        text-align: right;\n",
       "    }\n",
       "</style>\n",
       "<table border=\"1\" class=\"dataframe\">\n",
       "  <thead>\n",
       "    <tr style=\"text-align: right;\">\n",
       "      <th></th>\n",
       "      <th>Model</th>\n",
       "      <th>Accuracy</th>\n",
       "      <th>Precision</th>\n",
       "      <th>Recall</th>\n",
       "      <th>F1</th>\n",
       "    </tr>\n",
       "  </thead>\n",
       "  <tbody>\n",
       "    <tr>\n",
       "      <th>0</th>\n",
       "      <td>Naive Bayes Classification - before balancing</td>\n",
       "      <td>0.810822</td>\n",
       "      <td>0.810822</td>\n",
       "      <td>0.810822</td>\n",
       "      <td>0.796143</td>\n",
       "    </tr>\n",
       "    <tr>\n",
       "      <th>1</th>\n",
       "      <td>Naive Bayes Classification - after balancing</td>\n",
       "      <td>0.861072</td>\n",
       "      <td>0.861072</td>\n",
       "      <td>0.861072</td>\n",
       "      <td>0.858848</td>\n",
       "    </tr>\n",
       "    <tr>\n",
       "      <th>2</th>\n",
       "      <td>Naive Bayes Classification - removed neutral</td>\n",
       "      <td>0.930348</td>\n",
       "      <td>0.930348</td>\n",
       "      <td>0.930348</td>\n",
       "      <td>0.930334</td>\n",
       "    </tr>\n",
       "    <tr>\n",
       "      <th>3</th>\n",
       "      <td>Decision Tree Classifier</td>\n",
       "      <td>0.957090</td>\n",
       "      <td>0.957090</td>\n",
       "      <td>0.957090</td>\n",
       "      <td>0.957074</td>\n",
       "    </tr>\n",
       "  </tbody>\n",
       "</table>\n",
       "</div>"
      ],
      "text/plain": [
       "                                           Model  Accuracy  Precision  \\\n",
       "0  Naive Bayes Classification - before balancing  0.810822   0.810822   \n",
       "1   Naive Bayes Classification - after balancing  0.861072   0.861072   \n",
       "2   Naive Bayes Classification - removed neutral  0.930348   0.930348   \n",
       "3                       Decision Tree Classifier  0.957090   0.957090   \n",
       "\n",
       "     Recall        F1  \n",
       "0  0.810822  0.796143  \n",
       "1  0.861072  0.858848  \n",
       "2  0.930348  0.930334  \n",
       "3  0.957090  0.957074  "
      ]
     },
     "execution_count": 17,
     "metadata": {},
     "output_type": "execute_result"
    }
   ],
   "source": [
    "from sklearn.tree import DecisionTreeClassifier\n",
    "\n",
    "#creat decision tree classifier object\n",
    "DTClassifier=DecisionTreeClassifier()\n",
    "#train decision tree classifier\n",
    "DTClassifier=DTClassifier.fit(counts,y_train)\n",
    "evaluateModel(DTClassifier, 'Decision Tree Classifier')\n",
    "score"
   ]
  },
  {
   "cell_type": "markdown",
   "metadata": {},
   "source": [
    "### Random Forest Classifier"
   ]
  },
  {
   "cell_type": "code",
   "execution_count": 18,
   "metadata": {},
   "outputs": [
    {
     "name": "stdout",
     "output_type": "stream",
     "text": [
      "col_0      -1    1\n",
      "Analysis          \n",
      "-1        783   27\n",
      " 1         42  756\n"
     ]
    },
    {
     "data": {
      "text/html": [
       "<div>\n",
       "<style scoped>\n",
       "    .dataframe tbody tr th:only-of-type {\n",
       "        vertical-align: middle;\n",
       "    }\n",
       "\n",
       "    .dataframe tbody tr th {\n",
       "        vertical-align: top;\n",
       "    }\n",
       "\n",
       "    .dataframe thead th {\n",
       "        text-align: right;\n",
       "    }\n",
       "</style>\n",
       "<table border=\"1\" class=\"dataframe\">\n",
       "  <thead>\n",
       "    <tr style=\"text-align: right;\">\n",
       "      <th></th>\n",
       "      <th>Model</th>\n",
       "      <th>Accuracy</th>\n",
       "      <th>Precision</th>\n",
       "      <th>Recall</th>\n",
       "      <th>F1</th>\n",
       "    </tr>\n",
       "  </thead>\n",
       "  <tbody>\n",
       "    <tr>\n",
       "      <th>0</th>\n",
       "      <td>Naive Bayes Classification - before balancing</td>\n",
       "      <td>0.810822</td>\n",
       "      <td>0.810822</td>\n",
       "      <td>0.810822</td>\n",
       "      <td>0.796143</td>\n",
       "    </tr>\n",
       "    <tr>\n",
       "      <th>1</th>\n",
       "      <td>Naive Bayes Classification - after balancing</td>\n",
       "      <td>0.861072</td>\n",
       "      <td>0.861072</td>\n",
       "      <td>0.861072</td>\n",
       "      <td>0.858848</td>\n",
       "    </tr>\n",
       "    <tr>\n",
       "      <th>2</th>\n",
       "      <td>Naive Bayes Classification - removed neutral</td>\n",
       "      <td>0.930348</td>\n",
       "      <td>0.930348</td>\n",
       "      <td>0.930348</td>\n",
       "      <td>0.930334</td>\n",
       "    </tr>\n",
       "    <tr>\n",
       "      <th>3</th>\n",
       "      <td>Decision Tree Classifier</td>\n",
       "      <td>0.957090</td>\n",
       "      <td>0.957090</td>\n",
       "      <td>0.957090</td>\n",
       "      <td>0.957074</td>\n",
       "    </tr>\n",
       "    <tr>\n",
       "      <th>4</th>\n",
       "      <td>Random Forest Classifier</td>\n",
       "      <td>0.957090</td>\n",
       "      <td>0.957090</td>\n",
       "      <td>0.957090</td>\n",
       "      <td>0.957083</td>\n",
       "    </tr>\n",
       "  </tbody>\n",
       "</table>\n",
       "</div>"
      ],
      "text/plain": [
       "                                           Model  Accuracy  Precision  \\\n",
       "0  Naive Bayes Classification - before balancing  0.810822   0.810822   \n",
       "1   Naive Bayes Classification - after balancing  0.861072   0.861072   \n",
       "2   Naive Bayes Classification - removed neutral  0.930348   0.930348   \n",
       "3                       Decision Tree Classifier  0.957090   0.957090   \n",
       "4                       Random Forest Classifier  0.957090   0.957090   \n",
       "\n",
       "     Recall        F1  \n",
       "0  0.810822  0.796143  \n",
       "1  0.861072  0.858848  \n",
       "2  0.930348  0.930334  \n",
       "3  0.957090  0.957074  \n",
       "4  0.957090  0.957083  "
      ]
     },
     "execution_count": 18,
     "metadata": {},
     "output_type": "execute_result"
    }
   ],
   "source": [
    "from sklearn.ensemble import RandomForestClassifier\n",
    "\n",
    "RFClasssifier = RandomForestClassifier(n_estimators=100)\n",
    "RFClasssifier.fit(counts, y_train)\n",
    "evaluateModel(RFClasssifier, 'Random Forest Classifier')\n",
    "score"
   ]
  },
  {
   "cell_type": "markdown",
   "metadata": {},
   "source": [
    "### Support Vector Machine"
   ]
  },
  {
   "cell_type": "code",
   "execution_count": 19,
   "metadata": {},
   "outputs": [
    {
     "name": "stdout",
     "output_type": "stream",
     "text": [
      "col_0      -1    1\n",
      "Analysis          \n",
      "-1        785   25\n",
      " 1         30  768\n"
     ]
    },
    {
     "data": {
      "text/html": [
       "<div>\n",
       "<style scoped>\n",
       "    .dataframe tbody tr th:only-of-type {\n",
       "        vertical-align: middle;\n",
       "    }\n",
       "\n",
       "    .dataframe tbody tr th {\n",
       "        vertical-align: top;\n",
       "    }\n",
       "\n",
       "    .dataframe thead th {\n",
       "        text-align: right;\n",
       "    }\n",
       "</style>\n",
       "<table border=\"1\" class=\"dataframe\">\n",
       "  <thead>\n",
       "    <tr style=\"text-align: right;\">\n",
       "      <th></th>\n",
       "      <th>Model</th>\n",
       "      <th>Accuracy</th>\n",
       "      <th>Precision</th>\n",
       "      <th>Recall</th>\n",
       "      <th>F1</th>\n",
       "    </tr>\n",
       "  </thead>\n",
       "  <tbody>\n",
       "    <tr>\n",
       "      <th>0</th>\n",
       "      <td>Naive Bayes Classification - before balancing</td>\n",
       "      <td>0.810822</td>\n",
       "      <td>0.810822</td>\n",
       "      <td>0.810822</td>\n",
       "      <td>0.796143</td>\n",
       "    </tr>\n",
       "    <tr>\n",
       "      <th>1</th>\n",
       "      <td>Naive Bayes Classification - after balancing</td>\n",
       "      <td>0.861072</td>\n",
       "      <td>0.861072</td>\n",
       "      <td>0.861072</td>\n",
       "      <td>0.858848</td>\n",
       "    </tr>\n",
       "    <tr>\n",
       "      <th>2</th>\n",
       "      <td>Naive Bayes Classification - removed neutral</td>\n",
       "      <td>0.930348</td>\n",
       "      <td>0.930348</td>\n",
       "      <td>0.930348</td>\n",
       "      <td>0.930334</td>\n",
       "    </tr>\n",
       "    <tr>\n",
       "      <th>3</th>\n",
       "      <td>Decision Tree Classifier</td>\n",
       "      <td>0.957090</td>\n",
       "      <td>0.957090</td>\n",
       "      <td>0.957090</td>\n",
       "      <td>0.957074</td>\n",
       "    </tr>\n",
       "    <tr>\n",
       "      <th>4</th>\n",
       "      <td>Random Forest Classifier</td>\n",
       "      <td>0.957090</td>\n",
       "      <td>0.957090</td>\n",
       "      <td>0.957090</td>\n",
       "      <td>0.957083</td>\n",
       "    </tr>\n",
       "    <tr>\n",
       "      <th>5</th>\n",
       "      <td>Support Vector Machine</td>\n",
       "      <td>0.965796</td>\n",
       "      <td>0.965796</td>\n",
       "      <td>0.965796</td>\n",
       "      <td>0.965795</td>\n",
       "    </tr>\n",
       "  </tbody>\n",
       "</table>\n",
       "</div>"
      ],
      "text/plain": [
       "                                           Model  Accuracy  Precision  \\\n",
       "0  Naive Bayes Classification - before balancing  0.810822   0.810822   \n",
       "1   Naive Bayes Classification - after balancing  0.861072   0.861072   \n",
       "2   Naive Bayes Classification - removed neutral  0.930348   0.930348   \n",
       "3                       Decision Tree Classifier  0.957090   0.957090   \n",
       "4                       Random Forest Classifier  0.957090   0.957090   \n",
       "5                         Support Vector Machine  0.965796   0.965796   \n",
       "\n",
       "     Recall        F1  \n",
       "0  0.810822  0.796143  \n",
       "1  0.861072  0.858848  \n",
       "2  0.930348  0.930334  \n",
       "3  0.957090  0.957074  \n",
       "4  0.957090  0.957083  \n",
       "5  0.965796  0.965795  "
      ]
     },
     "execution_count": 19,
     "metadata": {},
     "output_type": "execute_result"
    }
   ],
   "source": [
    "from sklearn import svm\n",
    "\n",
    "#Create a svm Classifier\n",
    "SVMClassifier = svm.SVC(kernel='linear') # Linear Kernel\n",
    "#Train the model using the training sets\n",
    "SVMClassifier.fit(counts, y_train)\n",
    "evaluateModel(SVMClassifier, 'Support Vector Machine')\n",
    "score"
   ]
  }
 ],
 "metadata": {
  "kernelspec": {
   "display_name": "Python 3 (ipykernel)",
   "language": "python",
   "name": "python3"
  },
  "language_info": {
   "codemirror_mode": {
    "name": "ipython",
    "version": 3
   },
   "file_extension": ".py",
   "mimetype": "text/x-python",
   "name": "python",
   "nbconvert_exporter": "python",
   "pygments_lexer": "ipython3",
   "version": "3.9.7"
  }
 },
 "nbformat": 4,
 "nbformat_minor": 4
}
